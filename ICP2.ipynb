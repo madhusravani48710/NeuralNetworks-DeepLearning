{
  "nbformat": 4,
  "nbformat_minor": 0,
  "metadata": {
    "colab": {
      "provenance": []
    },
    "kernelspec": {
      "name": "python3",
      "display_name": "Python 3"
    },
    "language_info": {
      "name": "python"
    }
  },
  "cells": [
    {
      "cell_type": "markdown",
      "source": [
        "creating a class employee then adding a variable to count no of employees ,\n",
        "creating a special method called constuctor within a class to initialize the variables within the class.\n",
        "defining name family salary and department and incrementing the count of employees.\n",
        "defining a method called average salary  which is used to return the average salary by using the formula total salary by no.of employees.\n",
        "\n",
        "Class definition is required, but no attributes or methods yet is required in this class\n",
        "\n",
        "defining employees and full time employees\n",
        " and calculating total salary and average salary\n",
        " printing the final results.\n"
      ],
      "metadata": {
        "id": "mjSoSpSRx8U8"
      }
    },
    {
      "cell_type": "code",
      "execution_count": 3,
      "metadata": {
        "colab": {
          "base_uri": "https://localhost:8080/"
        },
        "id": "FJaDUkXcvPsQ",
        "outputId": "ca7b9de3-e282-4f8e-c047-26de82d44c24"
      },
      "outputs": [
        {
          "output_type": "stream",
          "name": "stdout",
          "text": [
            "Average Salary for Employees: 46250.0\n",
            "Average Salary for Fulltime Employees: 28750.0\n"
          ]
        }
      ],
      "source": [
        "class Employee:\n",
        "    no_Of_employees = 0\n",
        "\n",
        "    def __init__(self, name, family, salary, department):\n",
        "        self.name = name\n",
        "        self.family = family\n",
        "        self.salary = salary\n",
        "        self.department = department\n",
        "        Employee.no_Of_employees += 1\n",
        "\n",
        "    def average_salary(self, total_salary):\n",
        "        return total_salary / Employee.no_Of_employees\n",
        "\n",
        "class FulltimeEmployee(Employee):\n",
        "    pass\n",
        "\n",
        "employee1 = Employee(\"madhu sravani\", \"Bolisetti\", 90000, \"IT\")\n",
        "employee2 = Employee(\"Durga Devi\", \"Bolisetti\", 95000, \"Finance\")\n",
        "\n",
        "fulltime_employee1 = FulltimeEmployee(\"Meghna\", \"reddy\", 65000, \"HR\")\n",
        "fulltime_employee2 = FulltimeEmployee(\"Sagar\", \"Manu\", 50000, \"QA\")\n",
        "\n",
        "total_salary_employees = employee1.salary + employee2.salary\n",
        "average_salary_employees = employee1.average_salary(total_salary_employees)\n",
        "\n",
        "total_salary_fulltime_employees = fulltime_employee1.salary + fulltime_employee2.salary\n",
        "average_salary_fulltime_employees = fulltime_employee1.average_salary(total_salary_fulltime_employees)\n",
        "\n",
        "print(\"Average Salary for Employees:\", average_salary_employees)\n",
        "print(\"Average Salary for Fulltime Employees:\", average_salary_fulltime_employees)"
      ]
    },
    {
      "cell_type": "markdown",
      "source": [
        "imporing numpy which is a fundamental package\n",
        "generating random vector from 1 to 20 with size 20\n",
        "printing it"
      ],
      "metadata": {
        "id": "QFerKMBP0auK"
      }
    },
    {
      "cell_type": "code",
      "source": [
        "\n",
        "import numpy as np\n",
        "randomized_Vector = np.random.uniform(1, 20, 20)\n",
        "print(\"Original Random Vector:\\n\", randomized_Vector)"
      ],
      "metadata": {
        "colab": {
          "base_uri": "https://localhost:8080/"
        },
        "id": "hltjJgGfwz5w",
        "outputId": "8a380e8f-dfec-4b86-b599-05446b759bf2"
      },
      "execution_count": 5,
      "outputs": [
        {
          "output_type": "stream",
          "name": "stdout",
          "text": [
            "Original Random Vector:\n",
            " [12.58309606 13.29995453  1.35935663 12.2485254  10.15827944  1.90568021\n",
            " 19.32412575 16.47235263  5.87591209 11.55041617  3.73156452 12.84125991\n",
            " 17.23622688  8.23880107  8.55777524  3.11999275  4.13691014 16.24526086\n",
            "  9.5517482   8.46147643]\n"
          ]
        }
      ]
    },
    {
      "cell_type": "markdown",
      "source": [
        "reshaping the randomly generated vector using inbuilt function called reshape which helps in reshping the array to 4 rows and 5 columns\n",
        "printing the output"
      ],
      "metadata": {
        "id": "Quqkbjvj2uJ0"
      }
    },
    {
      "cell_type": "code",
      "source": [
        "reshaped_array = randomized_Vector.reshape(4, 5)\n",
        "print(reshaped_array)"
      ],
      "metadata": {
        "colab": {
          "base_uri": "https://localhost:8080/"
        },
        "id": "B2OMxAdexIsK",
        "outputId": "167baf34-e106-4e74-86df-818d05646e7d"
      },
      "execution_count": 6,
      "outputs": [
        {
          "output_type": "stream",
          "name": "stdout",
          "text": [
            "[[12.58309606 13.29995453  1.35935663 12.2485254  10.15827944]\n",
            " [ 1.90568021 19.32412575 16.47235263  5.87591209 11.55041617]\n",
            " [ 3.73156452 12.84125991 17.23622688  8.23880107  8.55777524]\n",
            " [ 3.11999275  4.13691014 16.24526086  9.5517482   8.46147643]]\n"
          ]
        }
      ]
    },
    {
      "cell_type": "markdown",
      "source": [
        "arranging the array and changing the max element in each row to zero using argmax function."
      ],
      "metadata": {
        "id": "yQllUZSH3cbQ"
      }
    },
    {
      "cell_type": "code",
      "source": [
        "\n",
        "reshaped_array[np.arange(4), reshaped_array.argmax(axis=1)] = 0\n",
        "print(\"Reshaped Array:\\n\", reshaped_array)"
      ],
      "metadata": {
        "colab": {
          "base_uri": "https://localhost:8080/"
        },
        "id": "5-XvKj7rxYdL",
        "outputId": "49fbfedf-d2fd-4cdb-9025-8eb762f211a5"
      },
      "execution_count": 7,
      "outputs": [
        {
          "output_type": "stream",
          "name": "stdout",
          "text": [
            "Reshaped Array:\n",
            " [[12.58309606  0.          1.35935663 12.2485254  10.15827944]\n",
            " [ 1.90568021  0.         16.47235263  5.87591209 11.55041617]\n",
            " [ 3.73156452 12.84125991  0.          8.23880107  8.55777524]\n",
            " [ 3.11999275  4.13691014  0.          9.5517482   8.46147643]]\n"
          ]
        }
      ]
    }
  ]
}