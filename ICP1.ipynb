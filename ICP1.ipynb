{
  "cells": [
    {
      "cell_type": "code",
      "execution_count": null,
      "metadata": {
        "id": "Z5tITamFErMj"
      },
      "outputs": [],
      "source": []
    },
    {
      "cell_type": "code",
      "execution_count": 1,
      "metadata": {
        "colab": {
          "base_uri": "https://localhost:8080/",
          "height": 211
        },
        "id": "wXiDcSJuHFMF",
        "outputId": "b9dd997d-238c-4d3c-a2a2-52ee9af1db68"
      },
      "outputs": [
        {
          "name": "stdout",
          "output_type": "stream",
          "text": [
            "Your full name is: adhu b\n"
          ]
        }
      ],
      "source": [
        "def fullname(first_name, last_name):\n",
        "  return first_name + \" \" + last_name\n",
        "\n",
        "#generating user inputs\n",
        "first_name = input(\"Enter your first name: \")\n",
        "last_name = input(\"Enter your last name: \")\n",
        "full_name = fullname(first_name, last_name)\n",
        "print(\"Your full name is:\", full_name)"
      ]
    },
    {
      "cell_type": "markdown",
      "metadata": {
        "id": "ayt99bNQIx8Y"
      },
      "source": [
        "creating a function to merge first name and last name\n",
        "\n",
        "printing full name\n",
        "\n",
        "taking user input for first name\n",
        "taking user input for second name\n",
        "then calling the function to generate a full name"
      ]
    },
    {
      "cell_type": "code",
      "execution_count": null,
      "metadata": {
        "id": "i4aKLyZJYpVg"
      },
      "outputs": [],
      "source": []
    },
    {
      "cell_type": "markdown",
      "metadata": {
        "id": "cvl9fF5KJOQj"
      },
      "source": [
        "defining a function to generate alternative characters in the name\n",
        "here [::2] is the slicing operator which starts at index 0 and ends at len-1 and prints every other character"
      ]
    },
    {
      "cell_type": "code",
      "execution_count": null,
      "metadata": {},
      "outputs": [],
      "source": []
    },
    {
      "cell_type": "markdown",
      "metadata": {
        "colab": {
          "base_uri": "https://localhost:8080/",
          "height": 297
        },
        "id": "dFiS_35skEVM",
        "outputId": "430d1de7-07db-4c32-c617-082ac155a387"
      },
      "source": [
        "def string_alternative(Full_name):\n",
        "  return Full_name[::2]\n",
        "def main():\n",
        "  Full_name=input(\"Enter your full name :\")\n",
        "  stri=string_alternative(Full_name)\n",
        "  print(stri)\n",
        "if __name__ == \"__main__\":\n",
        "    main()"
      ]
    },
    {
      "cell_type": "code",
      "execution_count": 2,
      "metadata": {},
      "outputs": [
        {
          "name": "stdout",
          "output_type": "stream",
          "text": [
            "Every other character in output string: mdhgb\n"
          ]
        }
      ],
      "source": [
        "def string_alternative(input_string):\n",
        "    return input_string[::2]\n",
        "def main():\n",
        "    input_string = input(\"Enter the input string: \")\n",
        "    result = string_alternative(input_string)\n",
        "    print(\"Every other character in output string:\", result)\n",
        "if __name__ == \"__main__\":\n",
        "    main()"
      ]
    },
    {
      "cell_type": "markdown",
      "metadata": {
        "id": "LIzx_fbqLtTf"
      },
      "source": []
    },
    {
      "cell_type": "markdown",
      "metadata": {
        "id": "X3vzps5cTy8Z"
      },
      "source": [
        "defining a function to generate ocuurances of each word\n",
        "we are splitting lines in to words\n",
        "running a for loop through each words\n",
        "\n",
        "openining input file as read file\n",
        "generating a empty word_count set\n",
        "\n",
        "looping through each word and appending if they are repeating again\n",
        "\n",
        "then looping through output and printing them and mentioning them as W file\n",
        "\n",
        "if the file name is not found return a error\n",
        "\n"
      ]
    },
    {
      "cell_type": "code",
      "execution_count": 53,
      "metadata": {
        "colab": {
          "base_uri": "https://localhost:8080/"
        },
        "id": "-rpbU1wnO2Sv",
        "outputId": "431ecb9b-893c-48cf-f99f-d7531cad2049"
      },
      "outputs": [
        {
          "name": "stdout",
          "output_type": "stream",
          "text": [
            "Python: 1\n",
            "Course: 2\n",
            "Deep: 1\n",
            "Learning: 1\n",
            "\n",
            "Word count results saved in output.txt\n"
          ]
        }
      ],
      "source": [
        "def word_occurrences(line, word_count):\n",
        "    words = line.split()\n",
        "    for word in words:\n",
        "        word_count[word] = word_count.get(word, 0) + 1\n",
        "\n",
        "def main():\n",
        "    input_file_name = \"input.txt\"\n",
        "    output_file_name = \"output.txt\"\n",
        "\n",
        "    try:\n",
        "        with open(input_file_name, 'r') as file:\n",
        "            lines = file.readlines()\n",
        "        word_count = {}\n",
        "        for line in lines:\n",
        "            word_occurrences(line, word_count)\n",
        "        output_lines = []\n",
        "        for word, count in word_count.items():\n",
        "            output_lines.append(f\"{word}: {count}\")\n",
        "        for output_line in output_lines:\n",
        "            print(output_line)\n",
        "        with open(output_file_name, 'w') as output_file:\n",
        "            output_file.write('\\n'.join(output_lines))\n",
        "        print(f\"\\nWord count results saved in {output_file_name}\")\n",
        "    except FileNotFoundError:\n",
        "        print(f\"Error: File '{input_file_name}' not found.\")\n",
        "if __name__ == \"__main__\":\n",
        "    main()"
      ]
    },
    {
      "cell_type": "markdown",
      "metadata": {
        "id": "96gxA46iOqUp"
      },
      "source": []
    },
    {
      "cell_type": "markdown",
      "metadata": {
        "id": "kD_8ZSf4HAE8"
      },
      "source": [
        "Python Course\n",
        "Deep Learning Course\n"
      ]
    },
    {
      "cell_type": "markdown",
      "metadata": {
        "id": "RMjNS-T4Vr7k"
      },
      "source": [
        "defining function to convert inches to cm\n",
        "creating a empty list\n",
        "looping through height mentioned in inches to convert them to cm\n",
        "rounding the height to nearest cm\n",
        "\n",
        "creating a main function to call the function\n",
        "asking user to mention the number of customers\n",
        "looping through each customer to mention height in inches\n",
        "calling function to generate cm\n"
      ]
    },
    {
      "cell_type": "code",
      "execution_count": 3,
      "metadata": {
        "colab": {
          "base_uri": "https://localhost:8080/",
          "height": 297
        },
        "id": "ckuc4FD0Dmux",
        "outputId": "f29ffe93-fd05-4141-ef54-dd66a6ea8b30"
      },
      "outputs": [
        {
          "name": "stdout",
          "output_type": "stream",
          "text": [
            "Heights in centimeters: [25.4, 50.8]\n"
          ]
        }
      ],
      "source": [
        "def inches_to_cm(heights_in_inches):\n",
        "    heights_in_cm = []\n",
        "    for height in heights_in_inches:\n",
        "        cm = round(height * 2.54, 2)\n",
        "        heights_in_cm.append(cm)\n",
        "    return heights_in_cm\n",
        "\n",
        "def main():\n",
        "    heights_in_inches = []\n",
        "    n = int(input(\"Enter the number of customers: \"))\n",
        "    for i in range(n):\n",
        "        height = float(input(f\"Enter height for customer {i+1} in inches: \"))\n",
        "        heights_in_inches.append(height)\n",
        "    heights_in_cm = inches_to_cm(heights_in_inches)\n",
        "    print(\"Heights in centimeters:\", heights_in_cm)\n",
        "if __name__ == \"__main__\":\n",
        "    main()\n"
      ]
    }
  ],
  "metadata": {
    "colab": {
      "provenance": []
    },
    "kernelspec": {
      "display_name": "Python 3",
      "name": "python3"
    },
    "language_info": {
      "codemirror_mode": {
        "name": "ipython",
        "version": 3
      },
      "file_extension": ".py",
      "mimetype": "text/x-python",
      "name": "python",
      "nbconvert_exporter": "python",
      "pygments_lexer": "ipython3",
      "version": "3.13.1"
    }
  },
  "nbformat": 4,
  "nbformat_minor": 0
}
