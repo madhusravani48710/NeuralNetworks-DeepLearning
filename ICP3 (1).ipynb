{
  "nbformat": 4,
  "nbformat_minor": 0,
  "metadata": {
    "colab": {
      "provenance": []
    },
    "kernelspec": {
      "name": "python3",
      "display_name": "Python 3"
    },
    "language_info": {
      "name": "python"
    }
  },
  "cells": [
    {
      "cell_type": "markdown",
      "source": [
        "importing pandas package\n",
        "storing the csv file as a variable data(here the /content is the default path given in online jupyter\n",
        "reading the csv file"
      ],
      "metadata": {
        "id": "GP09KbAJtMPl"
      }
    },
    {
      "cell_type": "code",
      "execution_count": 12,
      "metadata": {
        "id": "b5SXNl9_CvPp"
      },
      "outputs": [],
      "source": [
        "import pandas as pd\n",
        "data='/content/data.csv'\n",
        "df=pd.read_csv(data)\n"
      ]
    },
    {
      "cell_type": "markdown",
      "source": [
        "using inbuilt function describe to show the statistical description about data and printing the result"
      ],
      "metadata": {
        "id": "-S2jMPoktK0J"
      }
    },
    {
      "cell_type": "code",
      "source": [
        "#Show the basic statistical description about the data.\n",
        "basic_stats=df.describe()\n",
        "print(\"the basic statistical description about the data :\")\n",
        "print(basic_stats)"
      ],
      "metadata": {
        "colab": {
          "base_uri": "https://localhost:8080/"
        },
        "id": "fxz9dMWoDlQe",
        "outputId": "65d69042-c596-4e43-ad04-a4bbd263a6a1"
      },
      "execution_count": 13,
      "outputs": [
        {
          "output_type": "stream",
          "name": "stdout",
          "text": [
            "the basic statistical description about the data :\n",
            "         Duration       Pulse    Maxpulse     Calories\n",
            "count  169.000000  169.000000  169.000000   164.000000\n",
            "mean    63.846154  107.461538  134.047337   375.790244\n",
            "std     42.299949   14.510259   16.450434   266.379919\n",
            "min     15.000000   80.000000  100.000000    50.300000\n",
            "25%     45.000000  100.000000  124.000000   250.925000\n",
            "50%     60.000000  105.000000  131.000000   318.600000\n",
            "75%     60.000000  111.000000  141.000000   387.600000\n",
            "max    300.000000  159.000000  184.000000  1860.400000\n"
          ]
        }
      ]
    },
    {
      "cell_type": "markdown",
      "source": [
        "using inbuilt isnull() function to check if the data has any null values and sum() is used to calculate how many null values are there in each column\n",
        "printing the final result."
      ],
      "metadata": {
        "id": "cgrNzrHuuCCV"
      }
    },
    {
      "cell_type": "code",
      "source": [
        "null_values=df.isnull().sum()\n",
        "print(\"the null values in the data :\")\n",
        "print(null_values)\n",
        "\n"
      ],
      "metadata": {
        "colab": {
          "base_uri": "https://localhost:8080/"
        },
        "id": "g-ROuEqgFFDM",
        "outputId": "d02652bf-1065-4db2-ff27-58d3549fa4cd"
      },
      "execution_count": 14,
      "outputs": [
        {
          "output_type": "stream",
          "name": "stdout",
          "text": [
            "the null values in the data :\n",
            "Duration    0\n",
            "Pulse       0\n",
            "Maxpulse    0\n",
            "Calories    5\n",
            "dtype: int64\n"
          ]
        }
      ]
    },
    {
      "cell_type": "markdown",
      "source": [
        "using inbuilt isnull() function to check if the data has any null values and sum() is used to calculate how many null values are there in each column  then filling all the null values with the mean calculated and then printing the result"
      ],
      "metadata": {
        "id": "tHd5cjUnvD26"
      }
    },
    {
      "cell_type": "code",
      "source": [
        "null_values=df.isnull().sum()\n",
        "print(\"the null values in the data :\")\n",
        "print(null_values)\n",
        "#df.fillna(df.mean(),inplace=True)\n",
        "print(df.fillna(df.mean(),inplace=True))"
      ],
      "metadata": {
        "id": "6iSIaRl0FNH0",
        "colab": {
          "base_uri": "https://localhost:8080/"
        },
        "outputId": "0f4723c4-a10e-4f9d-983d-4f95fa1e625a"
      },
      "execution_count": 16,
      "outputs": [
        {
          "output_type": "stream",
          "name": "stdout",
          "text": [
            "the null values in the data :\n",
            "Duration    0\n",
            "Pulse       0\n",
            "Maxpulse    0\n",
            "Calories    0\n",
            "dtype: int64\n",
            "None\n"
          ]
        }
      ]
    },
    {
      "cell_type": "markdown",
      "source": [
        "selecting two columns from the above table\n",
        "calculating the min max count mean and adding them to a table\n",
        "printing the final result"
      ],
      "metadata": {
        "id": "NWaZdyIyvPoT"
      }
    },
    {
      "cell_type": "code",
      "source": [
        "#Select at least two columns and aggregate the data using: min, max, count, mean\n",
        "aggregated_columns=['Pulse','Calories']\n",
        "aggregated_data=df[aggregated_columns].agg(['min','max','count','mean'])\n",
        "print(\"the aggregated data :\")\n",
        "print(aggregated_data)"
      ],
      "metadata": {
        "colab": {
          "base_uri": "https://localhost:8080/"
        },
        "id": "c-EQhbUkGRr0",
        "outputId": "ed5d9145-5d29-44ed-d365-d57e8d71f652"
      },
      "execution_count": null,
      "outputs": [
        {
          "output_type": "stream",
          "name": "stdout",
          "text": [
            "the aggregated data :\n",
            "            Pulse     Calories\n",
            "min     80.000000    50.300000\n",
            "max    159.000000  1860.400000\n",
            "count  169.000000   169.000000\n",
            "mean   107.461538   375.790244\n"
          ]
        }
      ]
    },
    {
      "cell_type": "markdown",
      "source": [
        "filtering the data which is between 500 and 1000 using comparison operators"
      ],
      "metadata": {
        "id": "TsAYucJWwSe9"
      }
    },
    {
      "cell_type": "code",
      "source": [
        "#Filter the dataframe to select the rows with calories values between 500 and 1000\n",
        "filtered_data=df[(df['Calories']>=500) & (df['Calories']<=1000)]\n",
        "print(\"the filtered data :\")\n",
        "print(filtered_data)"
      ],
      "metadata": {
        "colab": {
          "base_uri": "https://localhost:8080/"
        },
        "id": "FDzDl-KyHPCj",
        "outputId": "c8613641-6e6f-4582-8645-1fd3b8f00722"
      },
      "execution_count": null,
      "outputs": [
        {
          "output_type": "stream",
          "name": "stdout",
          "text": [
            "the filtered data :\n",
            "     Duration  Pulse  Maxpulse  Calories\n",
            "51         80    123       146     643.1\n",
            "62        160    109       135     853.0\n",
            "65        180     90       130     800.4\n",
            "66        150    105       135     873.4\n",
            "67        150    107       130     816.0\n",
            "72         90    100       127     700.0\n",
            "73        150     97       127     953.2\n",
            "75         90     98       125     563.2\n",
            "78        120    100       130     500.4\n",
            "83        120    100       130     500.0\n",
            "90        180    101       127     600.1\n",
            "99         90     93       124     604.1\n",
            "101        90     90       110     500.0\n",
            "102        90     90       100     500.0\n",
            "103        90     90       100     500.4\n",
            "106       180     90       120     800.3\n",
            "108        90     90       120     500.3\n"
          ]
        }
      ]
    },
    {
      "cell_type": "markdown",
      "source": [
        "filtering the data which is between 500 and 100 using comparison operators"
      ],
      "metadata": {
        "id": "p-1YX0c9wx2r"
      }
    },
    {
      "cell_type": "code",
      "source": [
        "# Filter the dataframe to select the rows with calories values > 500 and pulse < 100.\n",
        "filtered_data=df[(df['Calories']>500) & (df['Pulse']<100)]\n",
        "print(\"the filtered data :\")\n",
        "print(filtered_data)"
      ],
      "metadata": {
        "colab": {
          "base_uri": "https://localhost:8080/"
        },
        "id": "nr6Gzrd3HZyb",
        "outputId": "a8b17016-f572-410c-80d5-1c1188be7ea8"
      },
      "execution_count": null,
      "outputs": [
        {
          "output_type": "stream",
          "name": "stdout",
          "text": [
            "the filtered data :\n",
            "     Duration  Pulse  Maxpulse  Calories\n",
            "65        180     90       130     800.4\n",
            "70        150     97       129    1115.0\n",
            "73        150     97       127     953.2\n",
            "75         90     98       125     563.2\n",
            "99         90     93       124     604.1\n",
            "103        90     90       100     500.4\n",
            "106       180     90       120     800.3\n",
            "108        90     90       120     500.3\n"
          ]
        }
      ]
    },
    {
      "cell_type": "markdown",
      "source": [
        "creating a new dataframe without maxpulse in it by using drop function."
      ],
      "metadata": {
        "id": "j_v7OOtfw3OJ"
      }
    },
    {
      "cell_type": "code",
      "source": [
        "#Create a new “df_modified” dataframe that contains all the columns from df except for “Maxpulse”.\n",
        "df_modified=df.drop('Maxpulse',axis=1)\n",
        "print(\"the new df_modified dataframe :\")\n",
        "print(df_modified)"
      ],
      "metadata": {
        "colab": {
          "base_uri": "https://localhost:8080/"
        },
        "id": "zIq0MwD0HhRZ",
        "outputId": "ea857ea0-d2c2-41b0-ada8-00c5d4b23d0f"
      },
      "execution_count": null,
      "outputs": [
        {
          "output_type": "stream",
          "name": "stdout",
          "text": [
            "the new df_modified dataframe :\n",
            "     Duration  Pulse  Calories\n",
            "0          60    110     409.1\n",
            "1          60    117     479.0\n",
            "2          60    103     340.0\n",
            "3          45    109     282.4\n",
            "4          45    117     406.0\n",
            "..        ...    ...       ...\n",
            "164        60    105     290.8\n",
            "165        60    110     300.0\n",
            "166        60    115     310.2\n",
            "167        75    120     320.4\n",
            "168        75    125     330.4\n",
            "\n",
            "[169 rows x 3 columns]\n"
          ]
        }
      ]
    },
    {
      "cell_type": "markdown",
      "source": [
        "new dataframe without maxpulse in it by using drop function"
      ],
      "metadata": {
        "id": "-sWRPViuxO0v"
      }
    },
    {
      "cell_type": "code",
      "source": [
        "#Delete the “Maxpulse” column from the main df dataframe\n",
        "df.drop('Maxpulse',axis=1,inplace=True)\n",
        "print(\"the main df dataframe after deleting the Maxpulse column :\")\n",
        "print(df)"
      ],
      "metadata": {
        "colab": {
          "base_uri": "https://localhost:8080/"
        },
        "id": "SqcoG6JJHoT5",
        "outputId": "c4cda2cd-28a8-40ab-c7aa-bbac5390e57a"
      },
      "execution_count": null,
      "outputs": [
        {
          "output_type": "stream",
          "name": "stdout",
          "text": [
            "the main df dataframe after deleting the Maxpulse column :\n",
            "     Duration  Pulse  Calories\n",
            "0          60    110     409.1\n",
            "1          60    117     479.0\n",
            "2          60    103     340.0\n",
            "3          45    109     282.4\n",
            "4          45    117     406.0\n",
            "..        ...    ...       ...\n",
            "164        60    105     290.8\n",
            "165        60    110     300.0\n",
            "166        60    115     310.2\n",
            "167        75    120     320.4\n",
            "168        75    125     330.4\n",
            "\n",
            "[169 rows x 3 columns]\n"
          ]
        }
      ]
    },
    {
      "cell_type": "markdown",
      "source": [
        "converting the datatype of calories to int by using the astype function"
      ],
      "metadata": {
        "id": "R9G6WIi-xSNa"
      }
    },
    {
      "cell_type": "code",
      "source": [
        "#Convert the datatype of Calories column to int datatype.\n",
        "df['Calories']=df['Calories'].astype(int)\n",
        "print(\"the Calories column datatype converted to int datatype :\")\n",
        "print(df)"
      ],
      "metadata": {
        "colab": {
          "base_uri": "https://localhost:8080/"
        },
        "id": "HQ6WGxe2Hu0Q",
        "outputId": "c754e372-0383-47ba-bee5-1a90d07d12fc"
      },
      "execution_count": null,
      "outputs": [
        {
          "output_type": "stream",
          "name": "stdout",
          "text": [
            "the Calories column datatype converted to int datatype :\n",
            "     Duration  Pulse  Calories\n",
            "0          60    110       409\n",
            "1          60    117       479\n",
            "2          60    103       340\n",
            "3          45    109       282\n",
            "4          45    117       406\n",
            "..        ...    ...       ...\n",
            "164        60    105       290\n",
            "165        60    110       300\n",
            "166        60    115       310\n",
            "167        75    120       320\n",
            "168        75    125       330\n",
            "\n",
            "[169 rows x 3 columns]\n"
          ]
        }
      ]
    },
    {
      "cell_type": "code",
      "source": [
        "#Using pandas create a scatter plot for the two columns (Duration and Calories).\n",
        "import matplotlib.pyplot as plt\n",
        "plt.scatter(df['Duration'],df['Calories'])\n",
        "plt.xlabel('Duration')\n",
        "plt.ylabel('Calories')\n",
        "plt.title('Scatter Plot of Duration vs Calories')\n",
        "plt.show()"
      ],
      "metadata": {
        "colab": {
          "base_uri": "https://localhost:8080/",
          "height": 472
        },
        "id": "qL3XG9aNH0TB",
        "outputId": "8259e493-86a1-4cc1-aa43-b80e3071be08"
      },
      "execution_count": null,
      "outputs": [
        {
          "output_type": "display_data",
          "data": {
            "text/plain": [
              "<Figure size 640x480 with 1 Axes>"
            ],
            "image/png": "[encoded data removed]"
          },
          "metadata": {}
        }
      ]
    },
    {
      "cell_type": "code",
      "source": [
        "\n",
        "import pandas as pd\n",
        "import numpy as np\n",
        "from sklearn.model_selection import train_test_split\n",
        "from sklearn.linear_model import LinearRegression\n",
        "from sklearn.metrics import mean_squared_error\n",
        "import matplotlib.pyplot as plt"
      ],
      "metadata": {
        "id": "Tcxo8ZeFIOWq"
      },
      "execution_count": 36,
      "outputs": []
    },
    {
      "cell_type": "markdown",
      "source": [
        "importing the salary data from the files section\n",
        "reading the csv file\n",
        "printing the data set"
      ],
      "metadata": {
        "id": "uH5bagMJxsXB"
      }
    },
    {
      "cell_type": "code",
      "source": [
        "#2.Import the given “Salary_Data.csv”\n",
        "salary_data = '/content/Salary_Data (2) (1) (1).csv'\n",
        "df = pd.read_csv(salary_data)\n",
        "\n",
        "# Display the first few rows of the DataFrame\n",
        "print(\"Dataset:\")\n",
        "print(df.head())\n"
      ],
      "metadata": {
        "colab": {
          "base_uri": "https://localhost:8080/"
        },
        "id": "kYnMECahH59i",
        "outputId": "2efa8539-0f45-4e8d-e57b-016863aca75f"
      },
      "execution_count": 37,
      "outputs": [
        {
          "output_type": "stream",
          "name": "stdout",
          "text": [
            "Dataset:\n",
            "   YearsExperience   Salary\n",
            "0              1.1  39343.0\n",
            "1              1.3  46205.0\n",
            "2              1.5  37731.0\n",
            "3              2.0  43525.0\n",
            "4              2.2  39891.0\n"
          ]
        }
      ]
    },
    {
      "cell_type": "markdown",
      "source": [
        "split the data lets take x as years of experience  and y as salary"
      ],
      "metadata": {
        "id": "wDehfWMXzihZ"
      }
    },
    {
      "cell_type": "code",
      "source": [
        "# Split the data in train_test partitions, such that 1/3 of the data is reserved as test subset.\n",
        "X = df[['YearsExperience']]\n",
        "y = df['Salary']\n",
        "X_train, X_test, y_train, y_test = train_test_split(X, y, test_size=1/3, random_state=42)"
      ],
      "metadata": {
        "id": "1GKdI-Qnzgwp"
      },
      "execution_count": 38,
      "outputs": []
    },
    {
      "cell_type": "markdown",
      "source": [
        "training the model x any y\n",
        "predicting the test and train models\n"
      ],
      "metadata": {
        "id": "ARyJfqAEyux3"
      }
    },
    {
      "cell_type": "code",
      "source": [
        "#Train and predict the model.\n",
        "model = LinearRegression()\n",
        "model.fit(X_train, y_train)\n",
        "y_train_pred = model.predict(X_train)\n",
        "y_test_pred = model.predict(X_test)"
      ],
      "metadata": {
        "id": "FiDBiZ5XJOeI"
      },
      "execution_count": 41,
      "outputs": []
    },
    {
      "cell_type": "markdown",
      "source": [
        "calculating the mean square error using the inbuilt method called as mean_squared_error"
      ],
      "metadata": {
        "id": "XTeg3O-P3gRA"
      }
    },
    {
      "cell_type": "code",
      "source": [
        "#Calculate the mean_squared error\n",
        "error_calculated = mean_squared_error(y_test, y_test_pred)\n",
        "error2=mean_squared_error(y_train,y_train_pred)\n",
        "print(\"Mean Squared Errors are :\", error_calculated)\n",
        "print(\"Mean Squared Errors are :\", error2)"
      ],
      "metadata": {
        "colab": {
          "base_uri": "https://localhost:8080/"
        },
        "id": "fRku8YGsJk5M",
        "outputId": "4f78993a-63f7-4ef3-eb8e-469e85540a50"
      },
      "execution_count": 46,
      "outputs": [
        {
          "output_type": "stream",
          "name": "stdout",
          "text": [
            "Mean Squared Errors are : 35301898.887134895\n",
            "Mean Squared Errors are : 29793161.082422983\n"
          ]
        }
      ]
    },
    {
      "cell_type": "markdown",
      "source": [
        "plotting the train data vs  test data  using blue and green"
      ],
      "metadata": {
        "id": "TdV2Ni_F5hPg"
      }
    },
    {
      "cell_type": "code",
      "source": [
        "#Visualize both train and test data using scatter plot.\n",
        "plt.scatter(X_train, y_train, color='blue', label='Training Data')\n",
        "plt.scatter(X_test, y_test, color='green', label='Test Data')\n",
        "\n",
        "# Plotting the regression line for training data\n",
        "plt.plot(X_train, y_train_pred, color='green', linewidth=2, label='Regression Line')\n",
        "\n",
        "# Adding labels and title\n",
        "plt.xlabel('Years of Experience')\n",
        "plt.ylabel('Salary')\n",
        "plt.title('Linear Regression: Salary vs Years of Experience')\n",
        "plt.legend()\n",
        "plt.show()"
      ],
      "metadata": {
        "colab": {
          "base_uri": "https://localhost:8080/",
          "height": 472
        },
        "id": "Nj2t0Ej_zyCD",
        "outputId": "625a5742-7461-428a-e09c-1bbfaa585ebc"
      },
      "execution_count": 44,
      "outputs": [
        {
          "output_type": "display_data",
          "data": {
            "text/plain": [
              "<Figure size 640x480 with 1 Axes>"
            ],
            "image/png": "[encoded data removed]"
          },
          "metadata": {}
        }
      ]
    }
  ]
}